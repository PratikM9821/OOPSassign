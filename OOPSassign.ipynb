{
  "nbformat": 4,
  "nbformat_minor": 0,
  "metadata": {
    "colab": {
      "provenance": []
    },
    "kernelspec": {
      "name": "python3",
      "display_name": "Python 3"
    },
    "language_info": {
      "name": "python"
    }
  },
  "cells": [
    {
      "cell_type": "markdown",
      "source": [
        "1. What are the five key concepts of Object-Oriented Programming (OOP)?\n",
        "*. Encapsulation: Bundling of data and methods operating on that data within a class, restricting direct access to some components.\n",
        "*. Abstraction: Hiding implementation details and showing only the necessary functionalities.\n",
        "*. Inheritance: Mechanism by which one class can inherit properties and methods from another class.\n",
        "*. Polymorphism: Ability to present the same interface for different data types or class types.\n",
        "*. Dynamic Binding: Code that is executed is not determined until runtime (e.g., overriding methods).\n"
      ],
      "metadata": {
        "id": "fl9kOEwEMtbt"
      }
    },
    {
      "cell_type": "markdown",
      "source": [
        "2. Write a Python class for a `Car` with attributes for `make`, `model`, and `year`. Include a method to display\n",
        "the car's information.\n"
      ],
      "metadata": {
        "id": "lsOzlPbKNIXj"
      }
    },
    {
      "cell_type": "code",
      "source": [
        "class Car:\n",
        "    def __init__(self, make, model, year):\n",
        "        self.make = make\n",
        "        self.model = model\n",
        "        self.year = year\n",
        "\n",
        "    def display_info(self):\n",
        "        return f\"{self.year} {self.make} {self.model}\"\n",
        "\n",
        "# Example usage\n",
        "my_car = Car(\"Toyota\", \"Corolla\", 2022)\n",
        "print(my_car.display_info())\n"
      ],
      "metadata": {
        "id": "guQhhN2nNT8_"
      },
      "execution_count": null,
      "outputs": []
    },
    {
      "cell_type": "markdown",
      "source": [
        "3. Explain the difference between instance methods and class methods. Provide an example of each.\n",
        "Instance Methods:\n",
        "Operate on an instance of the class.\n",
        "Have access to instance attributes and methods through self.\n",
        "Class Methods:\n",
        "Operate on the class itself, not instances.\n",
        "Use @classmethod decorator and take cls as their first parameter."
      ],
      "metadata": {
        "id": "sbaa9PK0Ng0a"
      }
    },
    {
      "cell_type": "code",
      "source": [
        "#example -\n",
        "class Example:\n",
        "    count = 0\n",
        "\n",
        "    def __init__(self):\n",
        "        Example.count += 1\n",
        "\n",
        "    def instance_method(self):\n",
        "        return f\"Called from {self}\"\n",
        "\n",
        "    @classmethod\n",
        "    def class_method(cls):\n",
        "        return f\"Class count: {cls.count}\"\n"
      ],
      "metadata": {
        "id": "IfzpyTkwN7y9"
      },
      "execution_count": null,
      "outputs": []
    },
    {
      "cell_type": "markdown",
      "source": [
        "4. How does Python implement method overloading? Give an example.?\n",
        "#Method Overloading in Python\n",
        "Python does not directly support method overloading. Instead, you can use default arguments or variable-length arguments to achieve similar functionality."
      ],
      "metadata": {
        "id": "mMXh2GPuOSsV"
      }
    },
    {
      "cell_type": "code",
      "source": [
        "class Calculator:\n",
        "    def add(self, a, b=0, c=0):\n",
        "        return a + b + c\n",
        "\n",
        "calc = Calculator()\n",
        "print(calc.add(1))          # Output: 1\n",
        "print(calc.add(1, 2))       # Output: 3\n",
        "print(calc.add(1, 2, 3))    # Output: 6\n"
      ],
      "metadata": {
        "id": "n7c5abLXOjTx"
      },
      "execution_count": null,
      "outputs": []
    },
    {
      "cell_type": "markdown",
      "source": [
        "5. What are the three types of access modifiers in Python? How are they denoted?\n",
        "\n",
        "Access Modifiers in Python\n",
        "Public: Accessible everywhere default, e.g, self.attribute.\n",
        "Protected: Intended for internal use within the class and its subclasses e.g, attribute.\n",
        "Private: Strictly accessible only within the class e.g., attribute."
      ],
      "metadata": {
        "id": "ePxStfHzOtgk"
      }
    },
    {
      "cell_type": "markdown",
      "source": [
        "6. Describe the five types of inheritance in Python. Provide a simple example of multiple inheritance.\n",
        "\n",
        " #Types of Inheritance in Python\n",
        "\n",
        "Single Inheritance: One parent class.\n",
        "Multiple Inheritance: Multiple parent classes.\n",
        "Multilevel Inheritance: Chain of inheritance.\n",
        "Hierarchical Inheritance: One parent, multiple children.\n",
        "Hybrid Inheritance: Combination of the above."
      ],
      "metadata": {
        "id": "2AYY5MxbPAql"
      }
    },
    {
      "cell_type": "code",
      "source": [
        "class A:\n",
        "    def method_a(self):\n",
        "        return \"Method A\"\n",
        "\n",
        "class B:\n",
        "    def method_b(self):\n",
        "        return \"Method B\"\n",
        "\n",
        "class C(A, B):\n",
        "    pass\n",
        "\n",
        "obj = C()\n",
        "print(obj.method_a())  # Output: Method A\n",
        "print(obj.method_b())  # Output: Method B\n"
      ],
      "metadata": {
        "id": "BFt_T_GtPWYg"
      },
      "execution_count": null,
      "outputs": []
    },
    {
      "cell_type": "markdown",
      "source": [
        "7. What is the Method Resolution Order (MRO) in Python? How can you retrieve it programmatically??\n",
        "\n",
        "MRO is the order in which Python looks for methods in a hierarchy. It uses the C3 Linearization Algorithm."
      ],
      "metadata": {
        "id": "1uAhpasIPZCf"
      }
    },
    {
      "cell_type": "code",
      "source": [
        "class Example:\n",
        "    pass\n",
        "\n",
        "print(Example.mro())\n"
      ],
      "metadata": {
        "id": "EMO9-NHcPkVL"
      },
      "execution_count": null,
      "outputs": []
    },
    {
      "cell_type": "markdown",
      "source": [
        "8. Create an abstract base class `Shape` with an abstract method `area`. Then create two subclasses\n",
        "`Circle` and `Rectangle` that implement the `area` method.\n"
      ],
      "metadata": {
        "id": "Y5GtI35BPvu5"
      }
    },
    {
      "cell_type": "code",
      "source": [
        "from abc import ABC, abstractmethod\n",
        "\n",
        "class Shape(ABC):\n",
        "    @abstractmethod\n",
        "    def area(self):\n",
        "        pass\n",
        "\n",
        "class Circle(Shape):\n",
        "    def __init__(self, radius):\n",
        "        self.radius = radius\n",
        "\n",
        "    def area(self):\n",
        "        return 3.14 * self.radius ** 2\n",
        "\n",
        "class Rectangle(Shape):\n",
        "    def __init__(self, length, breadth):\n",
        "        self.length = length\n",
        "        self.breadth = breadth\n",
        "\n",
        "    def area(self):\n",
        "        return self.length * self.breadth\n"
      ],
      "metadata": {
        "id": "dcWV9a4EQAnH"
      },
      "execution_count": null,
      "outputs": []
    },
    {
      "cell_type": "markdown",
      "source": [
        "9. Demonstrate polymorphism by creating a function that can work with different shape objects to calculate\n",
        "and print their areas.??\n"
      ],
      "metadata": {
        "id": "Ul5gU12YQFVr"
      }
    },
    {
      "cell_type": "code",
      "source": [
        "def print_area(shape):\n",
        "    print(f\"The area is: {shape.area()}\")\n",
        "\n",
        "circle = Circle(5)\n",
        "rectangle = Rectangle(4, 6)\n",
        "\n",
        "print_area(circle)\n",
        "print_area(rectangle)\n"
      ],
      "metadata": {
        "id": "dK4LaRgfRiC_"
      },
      "execution_count": null,
      "outputs": []
    },
    {
      "cell_type": "markdown",
      "source": [
        "10. Implement encapsulation in a `BankAccount` class with private attributes for `balance` and\n",
        "`account_number`. Include methods for deposit, withdrawal, and balance inquiry.??\n"
      ],
      "metadata": {
        "id": "cJGwy0EtRjd8"
      }
    },
    {
      "cell_type": "code",
      "source": [
        "class BankAccount:\n",
        "    def __init__(self, account_number, balance=0):\n",
        "        self.__account_number = account_number\n",
        "        self.__balance = balance\n",
        "\n",
        "    def deposit(self, amount):\n",
        "        self.__balance += amount\n",
        "        return self.__balance\n",
        "\n",
        "    def withdraw(self, amount):\n",
        "        if amount > self.__balance:\n",
        "            raise ValueError(\"Insufficient funds\")\n",
        "        self.__balance -= amount\n",
        "        return self.__balance\n",
        "\n",
        "    def get_balance(self):\n",
        "        return self.__balance\n"
      ],
      "metadata": {
        "id": "0UZ4lVy_RzBC"
      },
      "execution_count": null,
      "outputs": []
    },
    {
      "cell_type": "markdown",
      "source": [
        "11. Write a class that overrides the `__str__` and `__add__` magic methods. What will these methods allow\n",
        "you to do??\n",
        "\n",
        "__str__: Provides a string representation of the object.\n",
        "\n",
        "__add__: Defines behavior for the + operator."
      ],
      "metadata": {
        "id": "bGFbUch7R0O_"
      }
    },
    {
      "cell_type": "code",
      "source": [
        "class Number:\n",
        "    def __init__(self, value):\n",
        "        self.value = value\n",
        "\n",
        "    def __str__(self):\n",
        "        return f\"Number({self.value})\"\n",
        "\n",
        "    def __add__(self, other):\n",
        "        return Number(self.value + other.value)\n",
        "\n",
        "num1 = Number(10)\n",
        "num2 = Number(20)\n",
        "print(num1 + num2)  # Output: Number(30)\n"
      ],
      "metadata": {
        "id": "bEVveNfFSGgC"
      },
      "execution_count": null,
      "outputs": []
    },
    {
      "cell_type": "markdown",
      "source": [
        "12. Create a decorator that measures and prints the execution time of a function??\n"
      ],
      "metadata": {
        "id": "nb5rmeAaSMbL"
      }
    },
    {
      "cell_type": "code",
      "source": [
        "import time\n",
        "\n",
        "def timer(func):\n",
        "    def wrapper(*args, **kwargs):\n",
        "        start = time.time()\n",
        "        result = func(*args, **kwargs)\n",
        "        end = time.time()\n",
        "        print(f\"Execution time: {end - start:.4f} seconds\")\n",
        "        return result\n",
        "    return wrapper\n",
        "\n",
        "@timer\n",
        "def example_function():\n",
        "    time.sleep(2)\n",
        "    return \"Done\"\n",
        "\n",
        "print(example_function())\n"
      ],
      "metadata": {
        "id": "MoyGQ9TTSRAQ"
      },
      "execution_count": null,
      "outputs": []
    },
    {
      "cell_type": "markdown",
      "source": [
        "13. Explain the concept of the Diamond Problem in multiple inheritance. How does Python resolve it??\n",
        "\n",
        "-The Diamond Problem occurs in multiple inheritance when a class inherits from two classes that share a common ancestor.\n",
        "\n",
        "Python's Solution: Python uses MRO to resolve this."
      ],
      "metadata": {
        "id": "ffZmbueISVFh"
      }
    },
    {
      "cell_type": "markdown",
      "source": [
        "14. Write a class method that keeps track of the number of instances created from a class??\n"
      ],
      "metadata": {
        "id": "Uei0y7dSSbN_"
      }
    },
    {
      "cell_type": "code",
      "source": [
        "class Tracker:\n",
        "    count = 0\n",
        "\n",
        "    def __init__(self):\n",
        "        Tracker.count += 1\n",
        "\n",
        "    @classmethod\n",
        "    def get_instance_count(cls):\n",
        "        return cls.count\n"
      ],
      "metadata": {
        "id": "HuMF5jXBSgKM"
      },
      "execution_count": null,
      "outputs": []
    },
    {
      "cell_type": "markdown",
      "source": [
        "15. Implement a static method in a class that checks if a given year is a leap year??\n",
        "\n"
      ],
      "metadata": {
        "id": "CMdKPL_7SnLX"
      }
    },
    {
      "cell_type": "code",
      "source": [
        "class Utility:\n",
        "    @staticmethod\n",
        "    def is_leap_year(year):\n",
        "        return year % 4 == 0 and (year % 100 != 0 or year % 400 == 0)\n"
      ],
      "metadata": {
        "id": "iXBduDRlSze7"
      },
      "execution_count": null,
      "outputs": []
    }
  ]
}